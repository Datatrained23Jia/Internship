{
 "cells": [
  {
   "cell_type": "code",
   "execution_count": 2,
   "id": "da4ba13e",
   "metadata": {},
   "outputs": [
    {
     "name": "stdout",
     "output_type": "stream",
     "text": [
      "Python:Exercises::PHP:exercises:\n"
     ]
    }
   ],
   "source": [
    "import regex as re \n",
    "import pandas as pd \n",
    "Text =\"Python Exercises, PHP exercises.\"\n",
    "replace_text= re.sub('[\\s.,]',':',Text)\n",
    "print(replace_text)"
   ]
  },
  {
   "cell_type": "markdown",
   "id": "5ed1ac2d",
   "metadata": {},
   "source": [
    "# Q2\n"
   ]
  },
  {
   "cell_type": "code",
   "execution_count": 1,
   "id": "194ee458",
   "metadata": {},
   "outputs": [
    {
     "name": "stdout",
     "output_type": "stream",
     "text": [
      "['All', 'all', 'everything', 'east']\n"
     ]
    }
   ],
   "source": [
    "string =  \"All in all everything is good in the east.\"\n",
    "import regex as re\n",
    "pattern = r\"A[a-zA-Z]+|a[\\w]+|E[a-zA-Z]+|e[a-zA-Z]+\"\n",
    "x= re.findall(pattern ,string)\n",
    "print(x)"
   ]
  },
  {
   "cell_type": "markdown",
   "id": "9ef30b0b",
   "metadata": {},
   "source": [
    "# Q3"
   ]
  },
  {
   "cell_type": "code",
   "execution_count": 2,
   "id": "64b38c96",
   "metadata": {},
   "outputs": [
    {
     "name": "stdout",
     "output_type": "stream",
     "text": [
      "['Today', 'remarkable', 'history', 'humankind', 'when', 'landed', 'southpole', 'moon', 'first', 'time'] \n",
      "\n",
      "<class '_regex.Pattern'>\n"
     ]
    }
   ],
   "source": [
    "X1 = r\"\\w{4,}\"\n",
    "object = re.compile(X1)\n",
    "\n",
    "text = \"Today is the remarkable day in the history of humankind when we are now landed on southpole of our moon for first time .\"\n",
    "\n",
    "Result = object.findall(text)\n",
    "print(Result,\"\\n\")\n",
    "print (type(object))"
   ]
  },
  {
   "cell_type": "markdown",
   "id": "560b50ef",
   "metadata": {},
   "source": [
    "# Q4"
   ]
  },
  {
   "cell_type": "code",
   "execution_count": 3,
   "id": "9c6fd47f",
   "metadata": {},
   "outputs": [
    {
     "name": "stdout",
     "output_type": "stream",
     "text": [
      "['Today', 'the', 'remar', 'kable', 'day', 'the', 'histo', 'human', 'kind', 'when', 'are', 'now', 'lande', 'south', 'pole', 'our', 'moon', 'for', 'first', 'time']\n"
     ]
    }
   ],
   "source": [
    "X1 = r\"\\w{3,5}\"\n",
    "object = re.compile(X1)\n",
    "\n",
    "text = \"Today is the remarkable day in the history of humankind when we are now landed on southpole of our moon for first time .\"\n",
    "\n",
    "Result = object.findall(text)\n",
    "print(Result)\n"
   ]
  },
  {
   "cell_type": "markdown",
   "id": "9f4219c1",
   "metadata": {},
   "source": [
    "# Q5"
   ]
  },
  {
   "cell_type": "code",
   "execution_count": 4,
   "id": "ce83e2bc",
   "metadata": {},
   "outputs": [
    {
     "name": "stdout",
     "output_type": "stream",
     "text": [
      "'example(.com)', 'hr@fliprobo(.com)', 'github(.com)', 'Hello(Data Science World)'\n"
     ]
    },
    {
     "ename": "TypeError",
     "evalue": "first argument must be a string or compiled pattern",
     "output_type": "error",
     "traceback": [
      "\u001b[1;31m---------------------------------------------------------------------------\u001b[0m",
      "\u001b[1;31mTypeError\u001b[0m                                 Traceback (most recent call last)",
      "\u001b[1;32m~\\AppData\\Local\\Temp\\ipykernel_19840\\1649025205.py\u001b[0m in \u001b[0;36m<module>\u001b[1;34m\u001b[0m\n\u001b[0;32m      3\u001b[0m \u001b[0mprint\u001b[0m \u001b[1;33m(\u001b[0m\u001b[0mresult\u001b[0m\u001b[1;33m)\u001b[0m\u001b[1;33m\u001b[0m\u001b[1;33m\u001b[0m\u001b[0m\n\u001b[0;32m      4\u001b[0m \u001b[0mx\u001b[0m\u001b[1;33m=\u001b[0m \u001b[1;33m(\u001b[0m\u001b[1;34mr\"()\"\u001b[0m\u001b[1;33m,\u001b[0m\u001b[1;34m\"\"\u001b[0m\u001b[1;33m)\u001b[0m\u001b[1;33m\u001b[0m\u001b[1;33m\u001b[0m\u001b[0m\n\u001b[1;32m----> 5\u001b[1;33m \u001b[0mobject\u001b[0m \u001b[1;33m=\u001b[0m \u001b[0mre\u001b[0m\u001b[1;33m.\u001b[0m\u001b[0mcompile\u001b[0m\u001b[1;33m(\u001b[0m\u001b[0mx\u001b[0m\u001b[1;33m,\u001b[0m\u001b[0mflags\u001b[0m\u001b[1;33m=\u001b[0m\u001b[1;36m0\u001b[0m\u001b[1;33m)\u001b[0m\u001b[1;33m\u001b[0m\u001b[1;33m\u001b[0m\u001b[0m\n\u001b[0m\u001b[0;32m      6\u001b[0m \u001b[0mresults\u001b[0m \u001b[1;33m=\u001b[0m \u001b[0mobject\u001b[0m\u001b[1;33m.\u001b[0m\u001b[0msub\u001b[0m\u001b[1;33m(\u001b[0m\u001b[0mresult\u001b[0m\u001b[1;33m)\u001b[0m\u001b[1;33m\u001b[0m\u001b[1;33m\u001b[0m\u001b[0m\n\u001b[0;32m      7\u001b[0m \u001b[0mprint\u001b[0m \u001b[1;33m(\u001b[0m\u001b[0mresults\u001b[0m\u001b[1;33m,\u001b[0m\u001b[1;34m\"\\n\"\u001b[0m\u001b[1;33m)\u001b[0m\u001b[1;33m\u001b[0m\u001b[1;33m\u001b[0m\u001b[0m\n",
      "\u001b[1;32m~\\anaconda3\\lib\\site-packages\\regex\\regex.py\u001b[0m in \u001b[0;36mcompile\u001b[1;34m(pattern, flags, ignore_unused, cache_pattern, **kwargs)\u001b[0m\n\u001b[0;32m    351\u001b[0m     \u001b[1;32mif\u001b[0m \u001b[0mcache_pattern\u001b[0m \u001b[1;32mis\u001b[0m \u001b[1;32mNone\u001b[0m\u001b[1;33m:\u001b[0m\u001b[1;33m\u001b[0m\u001b[1;33m\u001b[0m\u001b[0m\n\u001b[0;32m    352\u001b[0m         \u001b[0mcache_pattern\u001b[0m \u001b[1;33m=\u001b[0m \u001b[0m_cache_all\u001b[0m\u001b[1;33m\u001b[0m\u001b[1;33m\u001b[0m\u001b[0m\n\u001b[1;32m--> 353\u001b[1;33m     \u001b[1;32mreturn\u001b[0m \u001b[0m_compile\u001b[0m\u001b[1;33m(\u001b[0m\u001b[0mpattern\u001b[0m\u001b[1;33m,\u001b[0m \u001b[0mflags\u001b[0m\u001b[1;33m,\u001b[0m \u001b[0mignore_unused\u001b[0m\u001b[1;33m,\u001b[0m \u001b[0mkwargs\u001b[0m\u001b[1;33m,\u001b[0m \u001b[0mcache_pattern\u001b[0m\u001b[1;33m)\u001b[0m\u001b[1;33m\u001b[0m\u001b[1;33m\u001b[0m\u001b[0m\n\u001b[0m\u001b[0;32m    354\u001b[0m \u001b[1;33m\u001b[0m\u001b[0m\n\u001b[0;32m    355\u001b[0m \u001b[1;32mdef\u001b[0m \u001b[0mpurge\u001b[0m\u001b[1;33m(\u001b[0m\u001b[1;33m)\u001b[0m\u001b[1;33m:\u001b[0m\u001b[1;33m\u001b[0m\u001b[1;33m\u001b[0m\u001b[0m\n",
      "\u001b[1;32m~\\anaconda3\\lib\\site-packages\\regex\\regex.py\u001b[0m in \u001b[0;36m_compile\u001b[1;34m(pattern, flags, ignore_unused, kwargs, cache_it)\u001b[0m\n\u001b[0;32m    509\u001b[0m         \u001b[1;32mreturn\u001b[0m \u001b[0mpattern\u001b[0m\u001b[1;33m\u001b[0m\u001b[1;33m\u001b[0m\u001b[0m\n\u001b[0;32m    510\u001b[0m     \u001b[1;32melse\u001b[0m\u001b[1;33m:\u001b[0m\u001b[1;33m\u001b[0m\u001b[1;33m\u001b[0m\u001b[0m\n\u001b[1;32m--> 511\u001b[1;33m         \u001b[1;32mraise\u001b[0m \u001b[0mTypeError\u001b[0m\u001b[1;33m(\u001b[0m\u001b[1;34m\"first argument must be a string or compiled pattern\"\u001b[0m\u001b[1;33m)\u001b[0m\u001b[1;33m\u001b[0m\u001b[1;33m\u001b[0m\u001b[0m\n\u001b[0m\u001b[0;32m    512\u001b[0m \u001b[1;33m\u001b[0m\u001b[0m\n\u001b[0;32m    513\u001b[0m     \u001b[1;31m# Set the default version in the core code in case it has been changed.\u001b[0m\u001b[1;33m\u001b[0m\u001b[1;33m\u001b[0m\u001b[0m\n",
      "\u001b[1;31mTypeError\u001b[0m: first argument must be a string or compiled pattern"
     ]
    }
   ],
   "source": [
    "text = [\"example(.com)\",\"hr@fliprobo(.com)\",\"github(.com)\",\"Hello(Data Science World)\"]\n",
    "result = (str(text)[1:-1])\n",
    "print (result)\n",
    "x= (r\"()\",\"\")\n",
    "object = re.compile(x,flags=0)\n",
    "results = object.sub(result)\n",
    "print (results,\"\\n\")"
   ]
  },
  {
   "cell_type": "markdown",
   "id": "3fb60d95",
   "metadata": {},
   "source": [
    "# Q6"
   ]
  },
  {
   "cell_type": "code",
   "execution_count": null,
   "id": "ee2be5f8",
   "metadata": {},
   "outputs": [],
   "source": []
  },
  {
   "cell_type": "markdown",
   "id": "73ea5489",
   "metadata": {},
   "source": [
    "# Q7"
   ]
  },
  {
   "cell_type": "code",
   "execution_count": 5,
   "id": "e8ac1f27",
   "metadata": {},
   "outputs": [
    {
     "name": "stdout",
     "output_type": "stream",
     "text": [
      "['Importance', 'Of', 'Regular', 'Exression', 'In', 'Python']\n"
     ]
    }
   ],
   "source": [
    "String = \"ImportanceOfRegularExressionInPython\"\n",
    "import regex as re\n",
    "pattern = ('[A-Z][^A-Z]*')\n",
    "x= re.findall(pattern,String)\n",
    "print(x)"
   ]
  },
  {
   "cell_type": "markdown",
   "id": "4b2352c9",
   "metadata": {},
   "source": [
    "# Q8"
   ]
  },
  {
   "cell_type": "code",
   "execution_count": 6,
   "id": "9d60c453",
   "metadata": {},
   "outputs": [
    {
     "name": "stdout",
     "output_type": "stream",
     "text": [
      "RegularExpression 1IsAn 2ImportantTopic 3InPython\n"
     ]
    }
   ],
   "source": [
    "text=\"RegularExpression1IsAn2ImportantTopic3InPython\"\n",
    "x=re.sub( r\"([0-9][^0-9]*)\", r\" \\1\",text)\n",
    "print(x)"
   ]
  },
  {
   "cell_type": "markdown",
   "id": "18800ae1",
   "metadata": {},
   "source": [
    "# Q9"
   ]
  },
  {
   "cell_type": "code",
   "execution_count": 7,
   "id": "5f5fa44f",
   "metadata": {},
   "outputs": [
    {
     "name": "stdout",
     "output_type": "stream",
     "text": [
      "RegularExpression 1 IsAn 2 ImportantTopic 3 InPython\n"
     ]
    }
   ],
   "source": [
    "text=\"RegularExpression1IsAn2ImportantTopic3InPython\"\n",
    "x=re.sub(\"(?<=\\d)|(?<=[^\\d])(?=\\d)\",\" \",text)\n",
    "print(x)"
   ]
  },
  {
   "cell_type": "markdown",
   "id": "6f91012b",
   "metadata": {},
   "source": [
    "# Q10"
   ]
  },
  {
   "cell_type": "code",
   "execution_count": 8,
   "id": "dbe9b999",
   "metadata": {},
   "outputs": [
    {
     "name": "stdout",
     "output_type": "stream",
     "text": [
      "['xyz@domain.com']\n",
      "['xyz.abc@sdomain.domain.com']\n",
      "['hr@fliprobo.com']\n"
     ]
    }
   ],
   "source": [
    "import re \n",
    "with open(\"data.txt\")as file:\n",
    "    for line in file:\n",
    "        emails = re.findall(r\"[a-zA-Z0-9\\.\\-+_]+@[a-zA-Z0-9\\.\\+_-]+\\.[a-z]+\",line)\n",
    "        print(emails)\n",
    "        "
   ]
  },
  {
   "cell_type": "markdown",
   "id": "7caf18ea",
   "metadata": {},
   "source": [
    "# Q11"
   ]
  },
  {
   "cell_type": "code",
   "execution_count": 9,
   "id": "6f2962ff",
   "metadata": {},
   "outputs": [
    {
     "name": "stdout",
     "output_type": "stream",
     "text": [
      "('August 2023 is the r_emarkable day.',)\n"
     ]
    }
   ],
   "source": [
    "import re\n",
    "text=\"23 August 2023 is the r_emarkable day.\"\n",
    "match = re.search(\"([A-Z].+[0-9].+)\" ,text)\n",
    "if match:\n",
    "    print(match.groups())"
   ]
  },
  {
   "cell_type": "markdown",
   "id": "2798c6a5",
   "metadata": {},
   "source": [
    "# Q12  Write a Python program where a string will start with a specific number."
   ]
  },
  {
   "cell_type": "code",
   "execution_count": 10,
   "id": "6765192a",
   "metadata": {},
   "outputs": [
    {
     "name": "stdout",
     "output_type": "stream",
     "text": [
      "<re.Match object; span=(0, 2), match='23'>\n"
     ]
    }
   ],
   "source": [
    "STring = \"23 FeB 2023 is the starting day of data science program\"\n",
    "x= re.search(\"^\\w+\" ,STring)\n",
    "print(x)"
   ]
  },
  {
   "cell_type": "markdown",
   "id": "85138699",
   "metadata": {},
   "source": [
    "# Q13 Write a Python program to remove leading zeros from an IP address."
   ]
  },
  {
   "cell_type": "code",
   "execution_count": 11,
   "id": "ca9b1a3f",
   "metadata": {},
   "outputs": [
    {
     "name": "stdout",
     "output_type": "stream",
     "text": [
      "192.168.92.91\n"
     ]
    }
   ],
   "source": [
    "import re\n",
    "ip = \"192.168.092.91\"\n",
    "string = re.sub('\\.[0]*', '.', ip)\n",
    "print(string)"
   ]
  },
  {
   "cell_type": "markdown",
   "id": "63d08de1",
   "metadata": {},
   "source": [
    "# Q14\n"
   ]
  },
  {
   "cell_type": "code",
   "execution_count": 12,
   "id": "9c1ffe13",
   "metadata": {},
   "outputs": [
    {
     "name": "stdout",
     "output_type": "stream",
     "text": [
      "['August 15th 1947']\n"
     ]
    }
   ],
   "source": [
    "with open (\"untitled.txt\")as file:\n",
    "    for line in file :\n",
    "        Date = re.findall(r\"\\w{6} \\d{2}\\w{2} \\d{4}\",line)\n",
    "        print (Date)"
   ]
  },
  {
   "cell_type": "markdown",
   "id": "ccf8b40c",
   "metadata": {},
   "source": [
    "# Q15"
   ]
  },
  {
   "cell_type": "code",
   "execution_count": 32,
   "id": "50c24418",
   "metadata": {},
   "outputs": [
    {
     "name": "stdout",
     "output_type": "stream",
     "text": [
      "('fox', 'dog')\n"
     ]
    }
   ],
   "source": [
    "text=\"The quick brown fox jumps over the lazy dog.\"\n",
    "p1=re.search(r\"(fox).+(dog)\",text)\n",
    "print (p1.group(1,2))"
   ]
  },
  {
   "cell_type": "markdown",
   "id": "3a62c2d4",
   "metadata": {},
   "source": [
    "# Q16"
   ]
  },
  {
   "cell_type": "code",
   "execution_count": 33,
   "id": "698a672f",
   "metadata": {},
   "outputs": [
    {
     "name": "stdout",
     "output_type": "stream",
     "text": [
      "<re.Match object; span=(16, 19), match='fox'>\n"
     ]
    }
   ],
   "source": [
    "text=\"The quick brown fox jumps over the lazy dog.\"\n",
    "p1=re.search(r\"(fox)\",text)\n",
    "print (p1)"
   ]
  },
  {
   "cell_type": "markdown",
   "id": "a6147d60",
   "metadata": {},
   "source": [
    "# Q17"
   ]
  },
  {
   "cell_type": "code",
   "execution_count": 34,
   "id": "821ea8f3",
   "metadata": {},
   "outputs": [
    {
     "name": "stdout",
     "output_type": "stream",
     "text": [
      "exercises\n"
     ]
    }
   ],
   "source": [
    "import re\n",
    "text = \"Python exercises, PHP exercises, C# exercises\"\n",
    "result = re.search(r\"\\bexercises\\b\",text)\n",
    "print(result.group())"
   ]
  },
  {
   "cell_type": "markdown",
   "id": "0d8593eb",
   "metadata": {},
   "source": [
    "# Q18"
   ]
  },
  {
   "cell_type": "code",
   "execution_count": 35,
   "id": "5005b6e4",
   "metadata": {},
   "outputs": [
    {
     "name": "stdout",
     "output_type": "stream",
     "text": [
      "<re.Match object; span=(7, 16), match='exercises'>\n"
     ]
    }
   ],
   "source": [
    "import re\n",
    "text = \"Python exercises, PHP exercises, C# exercises\"\n",
    "result = re.search(r\"\\bexercises{1,}\\b\",text)\n",
    "print(result)"
   ]
  },
  {
   "cell_type": "markdown",
   "id": "07db9edd",
   "metadata": {},
   "source": [
    "# Q19"
   ]
  },
  {
   "cell_type": "code",
   "execution_count": 36,
   "id": "4360f414",
   "metadata": {},
   "outputs": [
    {
     "name": "stdout",
     "output_type": "stream",
     "text": [
      "28:08:2023\n"
     ]
    }
   ],
   "source": [
    "date = \"2023-08-28\"\n",
    "\n",
    "lst_date = date.split(\"-\")\n",
    "\n",
    "new_date = lst_date[2]+\":\"+lst_date[1]+\":\"+lst_date[0]\n",
    "print(new_date)"
   ]
  },
  {
   "cell_type": "markdown",
   "id": "ed6c8813",
   "metadata": {},
   "source": [
    "# Q20"
   ]
  },
  {
   "cell_type": "code",
   "execution_count": 4,
   "id": "21a1e379",
   "metadata": {},
   "outputs": [
    {
     "name": "stdout",
     "output_type": "stream",
     "text": [
      "['01.12', '0132.123', '2.31875', '145.8', '3.01', '27.25', '0.25']\n"
     ]
    }
   ],
   "source": [
    "import re\n",
    "text=\"01.12 0132.123 2.31875 145.8 3.01 27.25 0.25\"\n",
    "r= re.compile(r\"[0-9]+[.\\d]*\")\n",
    "result=r.findall(text)\n",
    "\n",
    "print(result)"
   ]
  },
  {
   "cell_type": "markdown",
   "id": "d921cc62",
   "metadata": {},
   "source": [
    "# Q21"
   ]
  },
  {
   "cell_type": "code",
   "execution_count": 5,
   "id": "6537ced7",
   "metadata": {},
   "outputs": [
    {
     "name": "stdout",
     "output_type": "stream",
     "text": [
      "<re.Match object; span=(31, 64), match='947, 896, 926, 524, 734, 950, 642'>\n"
     ]
    }
   ],
   "source": [
    "text = \"My marks in each semester are: 947, 896, 926, 524, 734, 950, 642\"\n",
    "pattern =r\"(\\b\\d+).+(\\b\\d+)\"\n",
    "result=re.search(pattern,text)\n",
    "print(result)"
   ]
  },
  {
   "cell_type": "markdown",
   "id": "ea791fa7",
   "metadata": {},
   "source": [
    "# Q22"
   ]
  },
  {
   "cell_type": "code",
   "execution_count": 6,
   "id": "26b75637",
   "metadata": {},
   "outputs": [
    {
     "name": "stdout",
     "output_type": "stream",
     "text": [
      "950\n"
     ]
    }
   ],
   "source": [
    "text = \"My marks in each semester are: 947, 896, 926, 524, 734, 950, 642\"\n",
    "pattern =r\"\\d+\"\n",
    "number=re.findall(pattern,text)\n",
    "print(max(number))"
   ]
  },
  {
   "cell_type": "markdown",
   "id": "edb5ab32",
   "metadata": {},
   "source": [
    "# Q23"
   ]
  },
  {
   "cell_type": "code",
   "execution_count": 7,
   "id": "1edc7c4b",
   "metadata": {},
   "outputs": [
    {
     "name": "stdout",
     "output_type": "stream",
     "text": [
      "['Regular', 'Expression', 'Is', 'An', 'Important', 'Topic', 'In', 'Python']\n",
      "Regular Expression Is An Important Topic In Python\n"
     ]
    }
   ],
   "source": [
    "Text= \"RegularExpressionIsAnImportantTopicInPython\"\n",
    "result = re.findall(r\"[A-Z][a-z]*\",Text)\n",
    "print(result)\n",
    "print(' '.join(result))"
   ]
  },
  {
   "cell_type": "markdown",
   "id": "13c3546b",
   "metadata": {},
   "source": [
    "# Q24"
   ]
  },
  {
   "cell_type": "code",
   "execution_count": 12,
   "id": "04c94fed",
   "metadata": {},
   "outputs": [
    {
     "name": "stdout",
     "output_type": "stream",
     "text": [
      "['Abcd', 'Ef', 'Ghij']\n"
     ]
    }
   ],
   "source": [
    "text = \"Abcd Ef Ghij KLMN\"\n",
    "result = re.findall('[A-Z]+[a-z]+',text)\n",
    "print(result)"
   ]
  },
  {
   "cell_type": "markdown",
   "id": "b582d886",
   "metadata": {},
   "source": [
    "# Q25"
   ]
  },
  {
   "cell_type": "code",
   "execution_count": 13,
   "id": "93d67630",
   "metadata": {},
   "outputs": [
    {
     "name": "stdout",
     "output_type": "stream",
     "text": [
      "Hello hello world\n"
     ]
    }
   ],
   "source": [
    "Text= \"Hello hello world world\"\n",
    "rx = r'\\b(\\w+)(?:\\W+\\1\\b)+'\n",
    "result = re.sub(rx ,r'\\1',Text)\n",
    "print(result)"
   ]
  },
  {
   "cell_type": "markdown",
   "id": "6ea9213f",
   "metadata": {},
   "source": [
    "# Q26"
   ]
  },
  {
   "cell_type": "code",
   "execution_count": 14,
   "id": "3b3b3f96",
   "metadata": {},
   "outputs": [
    {
     "name": "stdout",
     "output_type": "stream",
     "text": [
      "<re.Match object; span=(13, 20), match='KLMn123'>\n"
     ]
    }
   ],
   "source": [
    "string = \"Abcd Ef Ghij KLMn123\"\n",
    "regex = '[A-Za-z0-9]+$'\n",
    "if(re.search(regex, string)):\n",
    "        print(re.search(regex,string))"
   ]
  },
  {
   "cell_type": "markdown",
   "id": "90532bfc",
   "metadata": {},
   "source": [
    "# Q27"
   ]
  },
  {
   "cell_type": "code",
   "execution_count": 15,
   "id": "76c87ee0",
   "metadata": {},
   "outputs": [
    {
     "name": "stdout",
     "output_type": "stream",
     "text": [
      "['#my', '#popular', '#world']\n"
     ]
    }
   ],
   "source": [
    "t1=\"Hello #my name is #popular in the #world & create it with @passion.\"\n",
    "\n",
    "E1=\"#\\w*[a-zA-Z]+\\w*\"\n",
    "\n",
    "x = re.findall(E1,t1)\n",
    "print(x)"
   ]
  },
  {
   "cell_type": "markdown",
   "id": "d63a0d0e",
   "metadata": {},
   "source": [
    "# Q28"
   ]
  }
 ],
 "metadata": {
  "kernelspec": {
   "display_name": "Python 3 (ipykernel)",
   "language": "python",
   "name": "python3"
  },
  "language_info": {
   "codemirror_mode": {
    "name": "ipython",
    "version": 3
   },
   "file_extension": ".py",
   "mimetype": "text/x-python",
   "name": "python",
   "nbconvert_exporter": "python",
   "pygments_lexer": "ipython3",
   "version": "3.9.13"
  }
 },
 "nbformat": 4,
 "nbformat_minor": 5
}
